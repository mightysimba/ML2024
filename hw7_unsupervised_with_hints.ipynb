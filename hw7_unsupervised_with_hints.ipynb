{
  "cells": [
    {
      "cell_type": "markdown",
      "metadata": {
        "id": "UMms33J4jeDZ"
      },
      "source": [
        "# Homework\n",
        "\n",
        "1. Do clustering on the digits dataset from sklearn using at least three different approaches (k-means, hierarchical, birch)\n",
        "2. Evaluate the quality of clustering using three metrics from the lecture. Apply dimensionality reduction, then do clustering and calculate metrics.\n",
        "3. Make a comparison table of different clustering approaches with and without dimensionality reduction.\n",
        "4. Make a conclusion about how to perform validation and what metrics to use in a real-life task\n",
        "\n",
        "In this task, we want to use 10 clusters, as we have 10 digits."
      ]
    },
    {
      "cell_type": "code",
      "execution_count": 36,
      "metadata": {},
      "outputs": [],
      "source": [
        "# load the digits dataset\n",
        "\n",
        "# train k-means on the digits dataset\n",
        "# calculate metrics for the k-means model: silhouette_score, adjusted_rand_score, adjusted_mutual_info_score\n",
        "# save the metrics\n",
        "# do the same for other two clustering algorithms of your choice\n",
        "\n",
        "from sklearn import datasets\n",
        "from sklearn.manifold import TSNE\n",
        "from sklearn.cluster import KMeans, SpectralClustering, Birch\n",
        "from sklearn.metrics import silhouette_score, adjusted_rand_score, adjusted_mutual_info_score\n",
        "\n",
        "digits = datasets.load_digits()\n",
        "tsne = TSNE()\n",
        "embeddings_tsne = tsne.fit_transform(digits.data)"
      ]
    },
    {
      "cell_type": "code",
      "execution_count": 43,
      "metadata": {},
      "outputs": [],
      "source": [
        "# train k-means on the digits dataset\n",
        "model_kmeans = KMeans(n_clusters=10)\n",
        "model_kmeans.fit(digits.data)\n",
        "data_clusters = model_kmeans.predict(digits.data)\n",
        "# calculate metrics for the k-means model: silhouette_score, adjusted_rand_score, adjusted_mutual_info_score\n",
        "\n",
        "silhouette_km = silhouette_score(digits.data, data_clusters)\n",
        "ari_km = adjusted_rand_score(digits.target, data_clusters)\n",
        "ami_km = adjusted_mutual_info_score(digits.target, data_clusters)"
      ]
    },
    {
      "cell_type": "code",
      "execution_count": 44,
      "metadata": {},
      "outputs": [
        {
          "data": {
            "text/plain": [
              "(0.18826050698876154, 0.6554583959905361, 0.7489677266765028)"
            ]
          },
          "execution_count": 44,
          "metadata": {},
          "output_type": "execute_result"
        }
      ],
      "source": [
        "# save the metrics\n",
        "kmeans_metrics = silhouette_km, ari_km, ami_km\n",
        "kmeans_metrics"
      ]
    },
    {
      "cell_type": "code",
      "execution_count": 34,
      "metadata": {},
      "outputs": [],
      "source": [
        "# do the same for other two clustering algorithms of your choice\n",
        "# spectral clustering\n",
        "spectral_model = SpectralClustering(n_clusters=10, random_state=42, affinity='nearest_neighbors')\n",
        "spectral_clusters = spectral_model.fit_predict(digits.data)\n",
        "\n",
        "silhouette_spectral = silhouette_score(digits.data, spectral_clusters)\n",
        "ari_spectral = adjusted_rand_score(digits.target, spectral_clusters)\n",
        "ami_spectral = adjusted_mutual_info_score(digits.target, spectral_clusters)"
      ]
    },
    {
      "cell_type": "code",
      "execution_count": 35,
      "metadata": {},
      "outputs": [
        {
          "data": {
            "text/plain": [
              "(0.18272860285856599, 0.7564608880380487, 0.8520396374862457)"
            ]
          },
          "execution_count": 35,
          "metadata": {},
          "output_type": "execute_result"
        }
      ],
      "source": [
        "silhouette_metrics = silhouette_spectral, ari_spectral, ami_spectral\n",
        "silhouette_metrics"
      ]
    },
    {
      "cell_type": "code",
      "execution_count": 39,
      "metadata": {},
      "outputs": [],
      "source": [
        "# BIRCH\n",
        "birch_model = Birch(n_clusters=10)\n",
        "birch_clusters = birch_model.fit_predict(digits.data)\n",
        "\n",
        "silhouette_birch = silhouette_score(digits.data, birch_clusters)\n",
        "ari_birch = adjusted_rand_score(digits.target, birch_clusters)\n",
        "ami_birch = adjusted_mutual_info_score(digits.target, birch_clusters)"
      ]
    },
    {
      "cell_type": "code",
      "execution_count": 40,
      "metadata": {},
      "outputs": [
        {
          "data": {
            "text/plain": [
              "(0.17849659940596496, 0.7940031835568753, 0.8668321489750319)"
            ]
          },
          "execution_count": 40,
          "metadata": {},
          "output_type": "execute_result"
        }
      ],
      "source": [
        "birch_metrics = silhouette_birch, ari_birch, ami_birch\n",
        "birch_metrics"
      ]
    },
    {
      "cell_type": "code",
      "execution_count": 75,
      "metadata": {},
      "outputs": [
        {
          "data": {
            "text/plain": [
              "((0.18826050698876154, 0.6554583959905361, 0.7489677266765028),\n",
              " (0.18272860285856599, 0.7564608880380487, 0.8520396374862457),\n",
              " (0.17849659940596496, 0.7940031835568753, 0.8668321489750319))"
            ]
          },
          "execution_count": 75,
          "metadata": {},
          "output_type": "execute_result"
        }
      ],
      "source": [
        "digits_metrics = kmeans_metrics, silhouette_metrics, birch_metrics\n",
        "digits_metrics"
      ]
    },
    {
      "cell_type": "code",
      "execution_count": 45,
      "metadata": {},
      "outputs": [],
      "source": [
        "# apply PCA to the dataset\n",
        "from sklearn.decomposition import PCA\n",
        "\n",
        "\n",
        "pca = PCA(n_components=2)\n",
        "X_pca = pca.fit_transform(digits.data)\n",
        "\n",
        "# train the same clustering algorithms on the PCA-transformed dataset\n",
        "# calculate the same metrics for the PCA-transformed dataset\n",
        "# save the metrics\n",
        "# do the same with TSNE and UMAP transformations\n",
        "\n"
      ]
    },
    {
      "cell_type": "code",
      "execution_count": 49,
      "metadata": {},
      "outputs": [
        {
          "data": {
            "text/plain": [
              "(0.4003584991908948, 0.36027928369709045, 0.509809700094859)"
            ]
          },
          "execution_count": 49,
          "metadata": {},
          "output_type": "execute_result"
        }
      ],
      "source": [
        "# KMeans\n",
        "model_kmeans_pca = KMeans(n_clusters=10, random_state=42)\n",
        "model_kmeans_pca.fit(X_pca)\n",
        "data_clusters_kmeans_pca = model_kmeans_pca.predict(X_pca)\n",
        "\n",
        "silhouette_kmeans_pca = silhouette_score(X_pca, data_clusters_kmeans_pca)\n",
        "ari_kmeans_pca = adjusted_rand_score(digits.target, data_clusters_kmeans_pca)\n",
        "ami_kmeans_pca = adjusted_mutual_info_score(digits.target, data_clusters_kmeans_pca)\n",
        "\n",
        "pca_kmeans_metrics = silhouette_kmeans_pca, ari_kmeans_pca, ami_kmeans_pca\n",
        "pca_kmeans_metrics"
      ]
    },
    {
      "cell_type": "code",
      "execution_count": 51,
      "metadata": {},
      "outputs": [
        {
          "data": {
            "text/plain": [
              "(0.3771817281176335, 0.36074987488964066, 0.5184746702052185)"
            ]
          },
          "execution_count": 51,
          "metadata": {},
          "output_type": "execute_result"
        }
      ],
      "source": [
        "# Spectral clustering\n",
        "spectral_model_pca = SpectralClustering(n_clusters=10, random_state=42, affinity='nearest_neighbors')\n",
        "spectral_clusters_pca = spectral_model_pca.fit_predict(X_pca)\n",
        "\n",
        "silhouette_spectral_pca = silhouette_score(X_pca, spectral_clusters_pca)\n",
        "ari_spectral_pca = adjusted_rand_score(digits.target, spectral_clusters_pca)\n",
        "ami_spectral_pca = adjusted_mutual_info_score(digits.target, spectral_clusters_pca)\n",
        "\n",
        "pca_spectral_metrics = silhouette_spectral_pca, ari_spectral_pca, ami_spectral_pca\n",
        "pca_spectral_metrics"
      ]
    },
    {
      "cell_type": "code",
      "execution_count": 52,
      "metadata": {},
      "outputs": [
        {
          "data": {
            "text/plain": [
              "(0.3168153424420648, 0.36997579338357345, 0.49343717177935814)"
            ]
          },
          "execution_count": 52,
          "metadata": {},
          "output_type": "execute_result"
        }
      ],
      "source": [
        "# BIRCH\n",
        "birch_model_pca = Birch(n_clusters=10)\n",
        "birch_clusters_pca = birch_model_pca.fit_predict(X_pca)\n",
        "\n",
        "silhouette_birch_pca = silhouette_score(X_pca, birch_clusters_pca)\n",
        "ari_birch_pca = adjusted_rand_score(digits.target, birch_clusters_pca)\n",
        "ami_birch_pca = adjusted_mutual_info_score(digits.target, birch_clusters_pca)\n",
        "\n",
        "\n",
        "pca_birch_metrics = silhouette_birch_pca, ari_birch_pca, ami_birch_pca\n",
        "pca_birch_metrics"
      ]
    },
    {
      "cell_type": "code",
      "execution_count": 74,
      "metadata": {},
      "outputs": [
        {
          "data": {
            "text/plain": [
              "((0.4003584991908948, 0.36027928369709045, 0.509809700094859),\n",
              " (0.3771817281176335, 0.36074987488964066, 0.5184746702052185),\n",
              " (0.3168153424420648, 0.36997579338357345, 0.49343717177935814))"
            ]
          },
          "execution_count": 74,
          "metadata": {},
          "output_type": "execute_result"
        }
      ],
      "source": [
        "pca_metrics = pca_kmeans_metrics, pca_spectral_metrics, pca_birch_metrics\n",
        "pca_metrics"
      ]
    },
    {
      "cell_type": "code",
      "execution_count": 58,
      "metadata": {},
      "outputs": [
        {
          "name": "stderr",
          "output_type": "stream",
          "text": [
            "c:\\Users\\FILMINVASION\\AppData\\Local\\Programs\\Python\\Python312\\Lib\\site-packages\\sklearn\\manifold\\_spectral_embedding.py:329: UserWarning: Graph is not fully connected, spectral embedding may not work as expected.\n",
            "  warnings.warn(\n"
          ]
        }
      ],
      "source": [
        "#Umap\n",
        "import umap.umap_ as umap\n",
        "\n",
        "\n",
        "umap_model = umap.UMAP(n_components=2)\n",
        "X_umap = umap_model.fit_transform(digits.data)\n",
        "\n",
        "# Train KMeans on UMAP-transformed data\n",
        "model_kmeans_umap = KMeans(n_clusters=10, random_state=42)\n",
        "model_kmeans_umap.fit(X_umap)\n",
        "data_clusters_kmeans_umap = model_kmeans_umap.predict(X_umap)\n",
        "\n",
        "# Train Spectral Clustering on UMAP-transformed data\n",
        "spectral_model_umap = SpectralClustering(n_clusters=10, random_state=42, affinity='nearest_neighbors', n_neighbors=15)\n",
        "spectral_clusters_umap = spectral_model_umap.fit_predict(X_umap)\n",
        "\n",
        "# Train Birch Clustering on UMAP-transformed data\n",
        "birch_model_umap = Birch(n_clusters=10)\n",
        "birch_clusters_umap = birch_model_umap.fit_predict(X_umap)"
      ]
    },
    {
      "cell_type": "code",
      "execution_count": 73,
      "metadata": {},
      "outputs": [
        {
          "data": {
            "text/plain": [
              "((0.7948192, 0.820685984210742, 0.9034593114504199),\n",
              " (-0.1819423, 0.17053367335538905, 0.5343717874889509),\n",
              " (0.7948192, 0.820685984210742, 0.9034593114504201))"
            ]
          },
          "execution_count": 73,
          "metadata": {},
          "output_type": "execute_result"
        }
      ],
      "source": [
        "# Calculate metrics for KMeans on UMAP-transformed data\n",
        "silhouette_kmeans_umap = silhouette_score(X_umap, data_clusters_kmeans_umap)\n",
        "ari_kmeans_umap = adjusted_rand_score(digits.target, data_clusters_kmeans_umap)\n",
        "ami_kmeans_umap = adjusted_mutual_info_score(digits.target, data_clusters_kmeans_umap)\n",
        "\n",
        "# Calculate metrics for Spectral Clustering on UMAP-transformed data\n",
        "silhouette_spectral_umap = silhouette_score(X_umap, spectral_clusters_umap)\n",
        "ari_spectral_umap = adjusted_rand_score(digits.target, spectral_clusters_umap)\n",
        "ami_spectral_umap = adjusted_mutual_info_score(digits.target, spectral_clusters_umap)\n",
        "\n",
        "# Calculate metrics for Birch Clustering on UMAP-transformed data\n",
        "silhouette_birch_umap = silhouette_score(X_umap, birch_clusters_umap)\n",
        "ari_birch_umap = adjusted_rand_score(digits.target, birch_clusters_umap)\n",
        "ami_birch_umap = adjusted_mutual_info_score(digits.target, birch_clusters_umap)\n",
        "\n",
        "\n",
        "kmean_umap_metrics = silhouette_kmeans_umap, ari_kmeans_umap, ami_kmeans_umap\n",
        "spectral_umap_metrics = silhouette_spectral_umap, ari_spectral_umap, ami_spectral_umap\n",
        "birch_umap_metrics = silhouette_birch_umap, ari_birch_umap, ami_birch_umap\n",
        "\n",
        "umap_metrics = kmean_umap_metrics, spectral_umap_metrics, birch_umap_metrics\n",
        "umap_metrics"
      ]
    },
    {
      "cell_type": "code",
      "execution_count": 65,
      "metadata": {},
      "outputs": [],
      "source": [
        "#TSNE\n",
        "tsne_model = TSNE(n_components=2, random_state=42, max_iter=1000)\n",
        "X_tsne = tsne_model.fit_transform(digits.data)"
      ]
    },
    {
      "cell_type": "code",
      "execution_count": 72,
      "metadata": {},
      "outputs": [
        {
          "name": "stderr",
          "output_type": "stream",
          "text": [
            "c:\\Users\\FILMINVASION\\AppData\\Local\\Programs\\Python\\Python312\\Lib\\site-packages\\sklearn\\manifold\\_spectral_embedding.py:329: UserWarning: Graph is not fully connected, spectral embedding may not work as expected.\n",
            "  warnings.warn(\n"
          ]
        },
        {
          "data": {
            "text/plain": [
              "((0.640311, 0.8814982769237074, 0.9065868102431197),\n",
              " (-0.13350049, 0.2140155233039428, 0.5857424914900585),\n",
              " (0.6423378, 0.9002355914417323, 0.9201660724550942))"
            ]
          },
          "execution_count": 72,
          "metadata": {},
          "output_type": "execute_result"
        }
      ],
      "source": [
        "model_kmeans_tsne = KMeans(n_clusters=10, random_state=42)\n",
        "model_kmeans_tsne.fit(X_tsne)\n",
        "data_clusters_kmeans_tsne = model_kmeans_tsne.predict(X_tsne)\n",
        "\n",
        "# Train Spectral Clustering on t-SNE-transformed data\n",
        "spectral_model_tsne = SpectralClustering(n_clusters=10, random_state=42, affinity='nearest_neighbors')\n",
        "spectral_clusters_tsne = spectral_model_tsne.fit_predict(X_tsne)\n",
        "\n",
        "# Train Birch Clustering on t-SNE-transformed data\n",
        "birch_model_tsne = Birch(n_clusters=10)\n",
        "birch_clusters_tsne = birch_model_tsne.fit_predict(X_tsne)\n",
        "\n",
        "# Calculate metrics for KMeans on t-SNE-transformed data\n",
        "silhouette_kmeans_tsne = silhouette_score(X_tsne, data_clusters_kmeans_tsne)\n",
        "ari_kmeans_tsne = adjusted_rand_score(digits.target, data_clusters_kmeans_tsne)\n",
        "ami_kmeans_tsne = adjusted_mutual_info_score(digits.target, data_clusters_kmeans_tsne)\n",
        "\n",
        "# Calculate metrics for Spectral Clustering on t-SNE-transformed data\n",
        "silhouette_spectral_tsne = silhouette_score(X_tsne, spectral_clusters_tsne)\n",
        "ari_spectral_tsne = adjusted_rand_score(digits.target, spectral_clusters_tsne)\n",
        "ami_spectral_tsne = adjusted_mutual_info_score(digits.target, spectral_clusters_tsne)\n",
        "\n",
        "# Calculate metrics for Birch Clustering on t-SNE-transformed data\n",
        "silhouette_birch_tsne = silhouette_score(X_tsne, birch_clusters_tsne)\n",
        "ari_birch_tsne = adjusted_rand_score(digits.target, birch_clusters_tsne)\n",
        "ami_birch_tsne = adjusted_mutual_info_score(digits.target, birch_clusters_tsne)\n",
        "\n",
        "\n",
        "kmeans_tsne_metrics = silhouette_kmeans_tsne, ari_kmeans_tsne, ami_kmeans_tsne\n",
        "spectral_tsne_metrics = silhouette_spectral_tsne, ari_spectral_tsne, ami_spectral_tsne\n",
        "birch_tsne_metrics = silhouette_birch_tsne, ari_birch_tsne, ami_birch_tsne\n",
        "\n",
        "tsne_metrics = kmeans_tsne_metrics, spectral_tsne_metrics, birch_tsne_metrics\n",
        "tsne_metrics"
      ]
    },
    {
      "cell_type": "code",
      "execution_count": 80,
      "metadata": {},
      "outputs": [
        {
          "name": "stdout",
          "output_type": "stream",
          "text": [
            "((0.18826050698876154, 0.6554583959905361, 0.7489677266765028), (0.18272860285856599, 0.7564608880380487, 0.8520396374862457), (0.17849659940596496, 0.7940031835568753, 0.8668321489750319))\n",
            "((0.4003584991908948, 0.36027928369709045, 0.509809700094859), (0.3771817281176335, 0.36074987488964066, 0.5184746702052185), (0.3168153424420648, 0.36997579338357345, 0.49343717177935814))\n",
            "((0.7948192, 0.820685984210742, 0.9034593114504199), (-0.1819423, 0.17053367335538905, 0.5343717874889509), (0.7948192, 0.820685984210742, 0.9034593114504201))\n",
            "((0.640311, 0.8814982769237074, 0.9065868102431197), (-0.13350049, 0.2140155233039428, 0.5857424914900585), (0.6423378, 0.9002355914417323, 0.9201660724550942))\n"
          ]
        }
      ],
      "source": [
        "print(digits_metrics)\n",
        "print(pca_metrics)\n",
        "print(umap_metrics)\n",
        "print(tsne_metrics)"
      ]
    },
    {
      "cell_type": "code",
      "execution_count": null,
      "metadata": {},
      "outputs": [],
      "source": [
        "# compare the metrics for the original dataset and the transformed datasets\n",
        "# make a conclusion about the quality of the clustering algorithms and the transformations"
      ]
    },
    {
      "cell_type": "code",
      "execution_count": null,
      "metadata": {},
      "outputs": [],
      "source": [
        "# what metrics are the most informative in this case?\n",
        "# what metrics should be used to compare the quality of the clustering algorithms and the transformations in real-life, when the true labels are unknown?\n",
        "# provide an example of a real-life task and explain the validation strategy and metrics for it "
      ]
    }
  ],
  "metadata": {
    "colab": {
      "collapsed_sections": [],
      "name": "Bagging homework.ipynb",
      "provenance": []
    },
    "kernelspec": {
      "display_name": "Python 3",
      "name": "python3"
    },
    "language_info": {
      "codemirror_mode": {
        "name": "ipython",
        "version": 3
      },
      "file_extension": ".py",
      "mimetype": "text/x-python",
      "name": "python",
      "nbconvert_exporter": "python",
      "pygments_lexer": "ipython3",
      "version": "3.12.4"
    }
  },
  "nbformat": 4,
  "nbformat_minor": 0
}
